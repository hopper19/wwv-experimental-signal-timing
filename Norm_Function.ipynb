{
 "cells": [
  {
   "cell_type": "code",
   "execution_count": 1,
   "id": "95160d05-997c-4964-b38f-d1375851cece",
   "metadata": {},
   "outputs": [],
   "source": [
    "def norm(wav):\n",
    "    return wav/np.max(np.abs(wav))"
   ]
  },
  {
   "cell_type": "code",
   "execution_count": null,
   "id": "14b6ba18-4ac6-449b-b40c-c43fe676adf8",
   "metadata": {},
   "outputs": [],
   "source": []
  }
 ],
 "metadata": {
  "kernelspec": {
   "display_name": "Python 3 (ipykernel)",
   "language": "python",
   "name": "python3"
  },
  "language_info": {
   "codemirror_mode": {
    "name": "ipython",
    "version": 3
   },
   "file_extension": ".py",
   "mimetype": "text/x-python",
   "name": "python",
   "nbconvert_exporter": "python",
   "pygments_lexer": "ipython3",
   "version": "3.8.11"
  }
 },
 "nbformat": 4,
 "nbformat_minor": 5
}
